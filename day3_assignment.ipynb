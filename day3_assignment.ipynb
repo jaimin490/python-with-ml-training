{
  "nbformat": 4,
  "nbformat_minor": 0,
  "metadata": {
    "colab": {
      "name": "day3 assignment.ipynb",
      "provenance": [],
      "collapsed_sections": [],
      "authorship_tag": "ABX9TyNRXrt6v6Xn0R8Z7l1btn4d",
      "include_colab_link": true
    },
    "kernelspec": {
      "name": "python3",
      "display_name": "Python 3"
    },
    "language_info": {
      "name": "python"
    }
  },
  "cells": [
    {
      "cell_type": "markdown",
      "metadata": {
        "id": "view-in-github",
        "colab_type": "text"
      },
      "source": [
        "<a href=\"https://colab.research.google.com/github/jaimin490/python-with-ml-training/blob/main/day3_assignment.ipynb\" target=\"_parent\"><img src=\"https://colab.research.google.com/assets/colab-badge.svg\" alt=\"Open In Colab\"/></a>"
      ]
    },
    {
      "cell_type": "markdown",
      "metadata": {
        "id": "XFVbsIxcYAdL"
      },
      "source": [
        "## dictionary"
      ]
    },
    {
      "cell_type": "markdown",
      "metadata": {
        "id": "1mcZo_qo_Kvw"
      },
      "source": [
        "## sort the dictionary"
      ]
    },
    {
      "cell_type": "code",
      "metadata": {
        "colab": {
          "base_uri": "https://localhost:8080/"
        },
        "id": "uk7RXScJ1o3Z",
        "outputId": "61871707-7de9-416b-a75a-1004fb3c426a"
      },
      "source": [
        "import operator\n",
        "d=dict({'red':2,'blue':1,'c':4})\n",
        "print(d)\n",
        "sort = sorted(d.items(), key=operator.itemgetter(1)) \n",
        "print(sort)\n",
        "desc = sorted(d.items(),key=operator.itemgetter(1) ,reverse=True)\n",
        "print(desc)"
      ],
      "execution_count": null,
      "outputs": [
        {
          "output_type": "stream",
          "text": [
            "{'red': 2, 'blue': 1, 'c': 4}\n",
            "[('blue', 1), ('red', 2), ('c', 4)]\n",
            "[('c', 4), ('red', 2), ('blue', 1)]\n"
          ],
          "name": "stdout"
        }
      ]
    },
    {
      "cell_type": "code",
      "metadata": {
        "id": "eXgVPJno7y6H"
      },
      "source": [
        ""
      ],
      "execution_count": null,
      "outputs": []
    },
    {
      "cell_type": "markdown",
      "metadata": {
        "id": "_BQzbw-d_QF5"
      },
      "source": [
        "Q.2 Write a Python Program to add a key to a dictionary. "
      ]
    },
    {
      "cell_type": "code",
      "metadata": {
        "colab": {
          "base_uri": "https://localhost:8080/"
        },
        "id": "So5rS_vh_Wn4",
        "outputId": "9ca75013-0512-4703-dff7-b8a4c4318406"
      },
      "source": [
        "q2= {0: 10, 1: 20}\n",
        "print(q2)\n",
        "q2[2]=30\n",
        "print(q2)"
      ],
      "execution_count": null,
      "outputs": [
        {
          "output_type": "stream",
          "text": [
            "{0: 10, 1: 20}\n",
            "{0: 10, 1: 20, 2: 30}\n"
          ],
          "name": "stdout"
        }
      ]
    },
    {
      "cell_type": "code",
      "metadata": {
        "id": "_G2U3plQAASK"
      },
      "source": [
        ""
      ],
      "execution_count": null,
      "outputs": []
    },
    {
      "cell_type": "markdown",
      "metadata": {
        "id": "DSYdS0dqAf7w"
      },
      "source": [
        "Q.3 Write a  program asks for City name and Temperature and builds a dictionary using that Later on you can input City name and it will tell you the Temperature of that City.\n"
      ]
    },
    {
      "cell_type": "code",
      "metadata": {
        "colab": {
          "base_uri": "https://localhost:8080/"
        },
        "id": "-928fhHmAjmV",
        "outputId": "b71ca8b2-4f15-44ce-fe15-ac823b0ccc60"
      },
      "source": [
        "q3= {}\n",
        "data={}\n",
        "for i in range(2):\n",
        "  key1=input(\"enter city name \")\n",
        "  value1=input(\"enter temprature \")\n",
        "  q3[key1]=value1\n",
        "  data.update(q3)\n",
        "print(data)\n",
        "\n",
        "query=input(\"enter city name for temprature\")\n",
        "if  qwery in data.keys():\n",
        "  print(data[qwery])"
      ],
      "execution_count": null,
      "outputs": [
        {
          "output_type": "stream",
          "text": [
            "enter city name q\n",
            "enter temprature 1\n",
            "enter city name w\n",
            "enter temprature 2\n",
            "{'q': '1', 'w': '2'}\n",
            "enter city name for tempraturew\n",
            "2\n"
          ],
          "name": "stdout"
        }
      ]
    },
    {
      "cell_type": "code",
      "metadata": {
        "id": "A-5X9LkqA_9Z"
      },
      "source": [
        ""
      ],
      "execution_count": null,
      "outputs": []
    },
    {
      "cell_type": "markdown",
      "metadata": {
        "id": "ILLdhUe0IzZA"
      },
      "source": [
        "Q. 4 Write a Python program to convert list to list of dictionaries."
      ]
    },
    {
      "cell_type": "code",
      "metadata": {
        "colab": {
          "base_uri": "https://localhost:8080/"
        },
        "id": "_Hdh5fQTJdkp",
        "outputId": "dd285830-e5c3-4b41-a312-79558c428cc3"
      },
      "source": [
        "colour= [\"Black\", \"Red\", \"Maroon\", \"Yellow\"]\n",
        "hex= [\"#000000\", \"#FF0000\", \"#800000\", \"#FFFF00\"]\n",
        "key_list = ['color_name','color_code']\n",
        "\n",
        "\n",
        "print(\"The original color list : \" + str(colour))\n",
        "print(\"The original hex list : \" + str(hex))  \n",
        "\n",
        "#print([{'color_name': f, 'color_code': c} for f, c in zip(color_name, color_code)])\n",
        "#printing the op\n",
        "print([{'color_name':f,'color_code':c} for f, c in zip(colour,hex)])"
      ],
      "execution_count": null,
      "outputs": [
        {
          "output_type": "stream",
          "text": [
            "The original color list : ['Black', 'Red', 'Maroon', 'Yellow']\n",
            "The original hex list : ['#000000', '#FF0000', '#800000', '#FFFF00']\n",
            "[{'color_name': 'Black', 'color_code': '#000000'}, {'color_name': 'Red', 'color_code': '#FF0000'}, {'color_name': 'Maroon', 'color_code': '#800000'}, {'color_name': 'Yellow', 'color_code': '#FFFF00'}]\n"
          ],
          "name": "stdout"
        }
      ]
    },
    {
      "cell_type": "markdown",
      "metadata": {
        "id": "kShnpYoDSLMD"
      },
      "source": [
        "Q. 5 We have following information on Employees and their Salary (Salary is in lakhs),\n",
        "Employee\tSalary\n",
        "John\t14\n",
        "Smith\t13\n",
        "Alice\t32\n",
        "Daneil\t21\n",
        "\n",
        "    Using above create a dictionary of Employees and their Salary\n",
        "    Write a program that asks user for three type of inputs,\n",
        "        print: if user enter print then it should print all Employees with their Salary in this format,\n",
        "            John ==>14\n",
        "            Smith ==>13\n",
        "            Alice ==>32\n",
        "             Daneil ==>21\n",
        "        add: if user input adds then it should further ask for an Employee name to add. If Employee already exists in our dataset then it should print that it exists and do nothing. If it doesn't then it asks for Salary and add that new Employee/Salary in our dictionary and print it\n",
        "        remove: when user inputs remove it should ask for an Employee to remove. If an Employee exists in our dictionary then remove it and print a new dictionary using format shown above in (a). Else print that Employee doesn't exist!\n",
        "        query: on this again ask the user for which Employee he or she wants to query. When a user inputs that Employee it will print the Salary of that Employee."
      ]
    },
    {
      "cell_type": "code",
      "metadata": {
        "colab": {
          "base_uri": "https://localhost:8080/"
        },
        "id": "schY4uIaQ5rL",
        "outputId": "9993d831-6b65-41ec-f17b-7bcd40e904e3"
      },
      "source": [
        "d = {'john':'14','smith':'13','alice':'32','daniel':'21'}\n",
        "d"
      ],
      "execution_count": null,
      "outputs": [
        {
          "output_type": "execute_result",
          "data": {
            "text/plain": [
              "{'alice': '32', 'daniel': '21', 'john': '14', 'smith': '13'}"
            ]
          },
          "metadata": {
            "tags": []
          },
          "execution_count": 1
        }
      ]
    },
    {
      "cell_type": "code",
      "metadata": {
        "colab": {
          "base_uri": "https://localhost:8080/"
        },
        "id": "WuTFUUleRCZK",
        "outputId": "6febff21-e7ae-4f12-e4b7-0f3ed778f821"
      },
      "source": [
        "poll=True\n",
        "while poll:\n",
        "  usr_input = input(\"\\nEnter choice: 1.Print, 2.add, 3.remove, 4.query, q to quit:\")\n",
        "\n",
        "  if usr_input == '1':\n",
        "   print(\"name salary\")\n",
        "   for name, salary in d.items():\n",
        "     print(\"{} ==> {}\".format(name, salary))\n",
        "\n",
        "  elif usr_input == '2':\n",
        "    nname = input(\"enter name\")\n",
        "    if nname in d:\n",
        "      pass\n",
        "    else:\n",
        "      d[nname]=input(\"enter salary\")\n",
        "\n",
        "  elif usr_input == '3':\n",
        "    rname = input(\"enter name to remove\")\n",
        "    if rname in d:\n",
        "      d.pop(rname)\n",
        "    else:\n",
        "      print(\"doesn't exist\")\n",
        "\n",
        "  elif usr_input == '4':\n",
        "    qname = input(\"enter name for query\")\n",
        "    if qname in d:\n",
        "      print(d[qname])\n",
        "\n",
        "  if usr_input == 'q':\n",
        "    break "
      ],
      "execution_count": null,
      "outputs": [
        {
          "output_type": "stream",
          "text": [
            "\n",
            "Enter choice: 1.Print, 2.add, 3.remove, 4.query, q to quit:4\n",
            "enter name for querysmith\n",
            "13\n",
            "\n",
            "Enter choice: 1.Print, 2.add, 3.remove, 4.query, q to quit:q\n"
          ],
          "name": "stdout"
        }
      ]
    },
    {
      "cell_type": "code",
      "metadata": {
        "id": "Ab6wPs0lRLqi"
      },
      "source": [
        ""
      ],
      "execution_count": null,
      "outputs": []
    }
  ]
}