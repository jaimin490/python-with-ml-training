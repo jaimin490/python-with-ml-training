{
  "nbformat": 4,
  "nbformat_minor": 0,
  "metadata": {
    "colab": {
      "name": "day2.ipynb",
      "provenance": [],
      "collapsed_sections": [],
      "authorship_tag": "ABX9TyNYF8fprJeNdsNVquWflh6Z",
      "include_colab_link": true
    },
    "kernelspec": {
      "name": "python3",
      "display_name": "Python 3"
    },
    "language_info": {
      "name": "python"
    }
  },
  "cells": [
    {
      "cell_type": "markdown",
      "metadata": {
        "id": "view-in-github",
        "colab_type": "text"
      },
      "source": [
        "<a href=\"https://colab.research.google.com/github/jaimin490/python-with-ml-training/blob/main/day2.ipynb\" target=\"_parent\"><img src=\"https://colab.research.google.com/assets/colab-badge.svg\" alt=\"Open In Colab\"/></a>"
      ]
    },
    {
      "cell_type": "markdown",
      "metadata": {
        "id": "WJfIsTwUrfjM"
      },
      "source": [
        "# **data types**"
      ]
    },
    {
      "cell_type": "markdown",
      "metadata": {
        "id": "egiz7HSOsBrT"
      },
      "source": [
        "# sequence data type string"
      ]
    },
    {
      "cell_type": "code",
      "metadata": {
        "colab": {
          "base_uri": "https://localhost:8080/"
        },
        "id": "wphAxwfisIWi",
        "outputId": "70ea9e3c-6c18-4609-f6e8-64f232437456"
      },
      "source": [
        "s=\"Wlcome to goeduhug\"\n",
        "print(s)"
      ],
      "execution_count": null,
      "outputs": [
        {
          "output_type": "stream",
          "text": [
            "Wlcome to goeduhug\n"
          ],
          "name": "stdout"
        }
      ]
    },
    {
      "cell_type": "code",
      "metadata": {
        "colab": {
          "base_uri": "https://localhost:8080/",
          "height": 36
        },
        "id": "t7auKmzOsqm9",
        "outputId": "bc606bb5-b05b-410f-fd30-2cff747ddef8"
      },
      "source": [
        "s[0]"
      ],
      "execution_count": null,
      "outputs": [
        {
          "output_type": "execute_result",
          "data": {
            "application/vnd.google.colaboratory.intrinsic+json": {
              "type": "string"
            },
            "text/plain": [
              "'W'"
            ]
          },
          "metadata": {
            "tags": []
          },
          "execution_count": 3
        }
      ]
    },
    {
      "cell_type": "code",
      "metadata": {
        "colab": {
          "base_uri": "https://localhost:8080/",
          "height": 36
        },
        "id": "HLC3podJssfK",
        "outputId": "e72ce10a-2b8d-49c0-ead6-8579144b69c8"
      },
      "source": [
        "s[4]"
      ],
      "execution_count": null,
      "outputs": [
        {
          "output_type": "execute_result",
          "data": {
            "application/vnd.google.colaboratory.intrinsic+json": {
              "type": "string"
            },
            "text/plain": [
              "'m'"
            ]
          },
          "metadata": {
            "tags": []
          },
          "execution_count": 5
        }
      ]
    },
    {
      "cell_type": "code",
      "metadata": {
        "colab": {
          "base_uri": "https://localhost:8080/",
          "height": 36
        },
        "id": "C-tRy3-8swgT",
        "outputId": "8d4f9df5-aa9c-4730-ffb1-09cc0458e8ec"
      },
      "source": [
        "#slicing\n",
        "s[7:9]"
      ],
      "execution_count": null,
      "outputs": [
        {
          "output_type": "execute_result",
          "data": {
            "application/vnd.google.colaboratory.intrinsic+json": {
              "type": "string"
            },
            "text/plain": [
              "'to'"
            ]
          },
          "metadata": {
            "tags": []
          },
          "execution_count": 7
        }
      ]
    },
    {
      "cell_type": "code",
      "metadata": {
        "colab": {
          "base_uri": "https://localhost:8080/",
          "height": 36
        },
        "id": "vl0AhR4ptWZ0",
        "outputId": "12f528d2-6aca-4b14-c3b9-7c84db6aa6bb"
      },
      "source": [
        "s[2:6]"
      ],
      "execution_count": null,
      "outputs": [
        {
          "output_type": "execute_result",
          "data": {
            "application/vnd.google.colaboratory.intrinsic+json": {
              "type": "string"
            },
            "text/plain": [
              "'come'"
            ]
          },
          "metadata": {
            "tags": []
          },
          "execution_count": 8
        }
      ]
    },
    {
      "cell_type": "code",
      "metadata": {
        "colab": {
          "base_uri": "https://localhost:8080/",
          "height": 36
        },
        "id": "QS4TzFD-tkUt",
        "outputId": "fdb4e9d4-3764-4e1c-d6e2-00e10f70d433"
      },
      "source": [
        "#with incrementor\n",
        "s[0::3]"
      ],
      "execution_count": null,
      "outputs": [
        {
          "output_type": "execute_result",
          "data": {
            "application/vnd.google.colaboratory.intrinsic+json": {
              "type": "string"
            },
            "text/plain": [
              "'Wo  eh'"
            ]
          },
          "metadata": {
            "tags": []
          },
          "execution_count": 14
        }
      ]
    },
    {
      "cell_type": "code",
      "metadata": {
        "colab": {
          "base_uri": "https://localhost:8080/",
          "height": 36
        },
        "id": "f8hHCqhLvW0L",
        "outputId": "5d516fd1-d438-4e01-e290-1b4c74228f89"
      },
      "source": [
        "s"
      ],
      "execution_count": null,
      "outputs": [
        {
          "output_type": "execute_result",
          "data": {
            "application/vnd.google.colaboratory.intrinsic+json": {
              "type": "string"
            },
            "text/plain": [
              "'Wlcome to goeduhug'"
            ]
          },
          "metadata": {
            "tags": []
          },
          "execution_count": 10
        }
      ]
    },
    {
      "cell_type": "code",
      "metadata": {
        "colab": {
          "base_uri": "https://localhost:8080/",
          "height": 36
        },
        "id": "1bhaRabOvZRT",
        "outputId": "7b78fb2e-5f49-48b1-fb11-066412fde92f"
      },
      "source": [
        "#reverse\n",
        "s[::-1]"
      ],
      "execution_count": null,
      "outputs": [
        {
          "output_type": "execute_result",
          "data": {
            "application/vnd.google.colaboratory.intrinsic+json": {
              "type": "string"
            },
            "text/plain": [
              "'guhudeog ot emoclW'"
            ]
          },
          "metadata": {
            "tags": []
          },
          "execution_count": 16
        }
      ]
    },
    {
      "cell_type": "code",
      "metadata": {
        "colab": {
          "base_uri": "https://localhost:8080/"
        },
        "id": "N0bQ8zncvuto",
        "outputId": "328b29cc-a3e2-4c16-bb08-0240ef2d4b0d"
      },
      "source": [
        "len(s)"
      ],
      "execution_count": null,
      "outputs": [
        {
          "output_type": "execute_result",
          "data": {
            "text/plain": [
              "18"
            ]
          },
          "metadata": {
            "tags": []
          },
          "execution_count": 17
        }
      ]
    },
    {
      "cell_type": "code",
      "metadata": {
        "colab": {
          "base_uri": "https://localhost:8080/",
          "height": 36
        },
        "id": "p5mkDJmOw9OR",
        "outputId": "a92b0891-146b-4af1-e7e9-39e4bf3b635f"
      },
      "source": [
        "s.upper()"
      ],
      "execution_count": null,
      "outputs": [
        {
          "output_type": "execute_result",
          "data": {
            "application/vnd.google.colaboratory.intrinsic+json": {
              "type": "string"
            },
            "text/plain": [
              "'WLCOME TO GOEDUHUG'"
            ]
          },
          "metadata": {
            "tags": []
          },
          "execution_count": 18
        }
      ]
    },
    {
      "cell_type": "code",
      "metadata": {
        "id": "BuQgMf8oxBCp"
      },
      "source": [
        "s1=\"hey\""
      ],
      "execution_count": null,
      "outputs": []
    },
    {
      "cell_type": "code",
      "metadata": {
        "id": "ozFplfmGxF8M"
      },
      "source": [
        "s2=s+\" \"+s1"
      ],
      "execution_count": null,
      "outputs": []
    },
    {
      "cell_type": "code",
      "metadata": {
        "colab": {
          "base_uri": "https://localhost:8080/",
          "height": 36
        },
        "id": "A8_WWVimxJT2",
        "outputId": "4b72b11b-d0f5-4078-e2ac-ddb7e1efe134"
      },
      "source": [
        "s2"
      ],
      "execution_count": null,
      "outputs": [
        {
          "output_type": "execute_result",
          "data": {
            "application/vnd.google.colaboratory.intrinsic+json": {
              "type": "string"
            },
            "text/plain": [
              "'Wlcome to goeduhug hey'"
            ]
          },
          "metadata": {
            "tags": []
          },
          "execution_count": 23
        }
      ]
    },
    {
      "cell_type": "code",
      "metadata": {
        "colab": {
          "base_uri": "https://localhost:8080/"
        },
        "id": "AmT6HvnFxLp_",
        "outputId": "0f83dd6c-8458-4212-afe9-f0b980b10a68"
      },
      "source": [
        "print(s2*2)"
      ],
      "execution_count": null,
      "outputs": [
        {
          "output_type": "stream",
          "text": [
            "Wlcome to goeduhug heyWlcome to goeduhug hey\n"
          ],
          "name": "stdout"
        }
      ]
    },
    {
      "cell_type": "code",
      "metadata": {
        "colab": {
          "base_uri": "https://localhost:8080/"
        },
        "id": "IPYpMJZZxcDu",
        "outputId": "af203f42-a603-4eea-8d95-e2a40d82f469"
      },
      "source": [
        "print('e' in s)"
      ],
      "execution_count": null,
      "outputs": [
        {
          "output_type": "stream",
          "text": [
            "True\n"
          ],
          "name": "stdout"
        }
      ]
    },
    {
      "cell_type": "code",
      "metadata": {
        "colab": {
          "base_uri": "https://localhost:8080/"
        },
        "id": "R9psVLp3xjem",
        "outputId": "98c7e2a6-adce-482c-ee88-0c6e1c15f2df"
      },
      "source": [
        "#largest of 3 num\n",
        "a=int(input(\"enter num 1\"))\n",
        "b=int(input(\"enter num 2\"))\n",
        "c=int(input(\"enter num 3\"))\n",
        "\n",
        "if a>b and a>c:\n",
        "  print(\"a is largest\")\n",
        "if b>a and b>c:\n",
        "  print(\"b is largest\")\n",
        "else:\n",
        "  print(\"c is largest\")"
      ],
      "execution_count": null,
      "outputs": [
        {
          "output_type": "stream",
          "text": [
            "enter num 15\n",
            "enter num 28\n",
            "enter num 34\n",
            "b is largest\n"
          ],
          "name": "stdout"
        }
      ]
    },
    {
      "cell_type": "code",
      "metadata": {
        "colab": {
          "base_uri": "https://localhost:8080/"
        },
        "id": "GbqFm8Mcy-4U",
        "outputId": "fcec5ae6-9e93-4aa1-c688-5d7723fdb81f"
      },
      "source": [
        "age = int(input(\"enter your age pl\"))\n",
        "if age>18:\n",
        "  print(\"eligible for vaccination\")\n",
        "else:\n",
        "  print(\"not eligible\")\n",
        "  "
      ],
      "execution_count": null,
      "outputs": [
        {
          "output_type": "stream",
          "text": [
            "enter your age pl55\n",
            "eligible for vaccination\n"
          ],
          "name": "stdout"
        }
      ]
    },
    {
      "cell_type": "markdown",
      "metadata": {
        "id": "o2v7PUC51kLz"
      },
      "source": [
        "## loops"
      ]
    },
    {
      "cell_type": "code",
      "metadata": {
        "colab": {
          "base_uri": "https://localhost:8080/"
        },
        "id": "VAg-8ws21oZs",
        "outputId": "4b5b51a2-604f-401d-ec43-813124d7c03f"
      },
      "source": [
        "#For loop\n",
        "s=\"hello\"\n",
        "l=[1,2,3]\n",
        "for i in l:\n",
        "  print(i)\n",
        "for i in s:\n",
        "  print(i)"
      ],
      "execution_count": null,
      "outputs": [
        {
          "output_type": "stream",
          "text": [
            "1\n",
            "2\n",
            "3\n",
            "h\n",
            "e\n",
            "l\n",
            "l\n",
            "o\n"
          ],
          "name": "stdout"
        }
      ]
    },
    {
      "cell_type": "markdown",
      "metadata": {
        "id": "VU8RiFd224um"
      },
      "source": [
        "## range function"
      ]
    },
    {
      "cell_type": "code",
      "metadata": {
        "colab": {
          "base_uri": "https://localhost:8080/"
        },
        "id": "bxaDRIv13Bej",
        "outputId": "da8c9bb7-5538-4964-df80-1424afec520d"
      },
      "source": [
        "for i in range(1,11):\n",
        "  t=2*i\n",
        "  print(2,\"*\",i,\"=\",t)"
      ],
      "execution_count": null,
      "outputs": [
        {
          "output_type": "stream",
          "text": [
            "2 * 1 = 2\n",
            "2 * 2 = 4\n",
            "2 * 3 = 6\n",
            "2 * 4 = 8\n",
            "2 * 5 = 10\n",
            "2 * 6 = 12\n",
            "2 * 7 = 14\n",
            "2 * 8 = 16\n",
            "2 * 9 = 18\n",
            "2 * 10 = 20\n"
          ],
          "name": "stdout"
        }
      ]
    },
    {
      "cell_type": "code",
      "metadata": {
        "id": "ukd6S6MF3VGc",
        "colab": {
          "base_uri": "https://localhost:8080/"
        },
        "outputId": "b0421ad6-8dc4-41de-a7a3-6171d798ce7d"
      },
      "source": [
        "r=int(input(\"enter the size of it\"))\n",
        "for i in range (r):\n",
        "  for j in range(i):\n",
        "    print(\"*\",end=\"\")\n",
        "  print()\n",
        "for i in range (5,0,-1):\n",
        "  for j in range(i):\n",
        "    print(\"*\",end=\"\")\n",
        "  print()"
      ],
      "execution_count": null,
      "outputs": [
        {
          "output_type": "stream",
          "text": [
            "enter the size of it5\n",
            "\n",
            "*\n",
            "**\n",
            "***\n",
            "****\n",
            "*****\n",
            "****\n",
            "***\n",
            "**\n",
            "*\n"
          ],
          "name": "stdout"
        }
      ]
    },
    {
      "cell_type": "code",
      "metadata": {
        "id": "Id3zDAJIntvs"
      },
      "source": [
        ""
      ],
      "execution_count": null,
      "outputs": []
    },
    {
      "cell_type": "markdown",
      "metadata": {
        "id": "BAO3Vf1tlFuf"
      },
      "source": [
        "## assignment 1 day 2"
      ]
    },
    {
      "cell_type": "code",
      "metadata": {
        "id": "Y3Zs-KlRlK7r"
      },
      "source": [
        "1. We are having 3 list like this\n",
        "\n",
        "Colors = [“Yellow”,”Green”,”White”,”Black”]\n",
        "\n",
        "Fruits=[“Apple”,”Papaya”,”Mango”,”Orange”]\n",
        "\n",
        "Animals=[“Tiger”,”Lion”,”Deer”,”Zebra”]\n",
        "\n",
        "  i. Write a program that asks user to enter a Color/Fruit/Animal name and \n",
        "  it should tell which category belongs to ,\n",
        "  like its is a fruit or color or Animal"
      ],
      "execution_count": null,
      "outputs": []
    },
    {
      "cell_type": "code",
      "metadata": {
        "colab": {
          "base_uri": "https://localhost:8080/"
        },
        "id": "LT5tqqdBmfzC",
        "outputId": "3e8e0460-4007-4a44-e139-f044bbd53b78"
      },
      "source": [
        "Colors = ['Yellow','Green','White','Black']\n",
        "\n",
        "Fruits=['Apple','Papaya','Mango','Orange']\n",
        "\n",
        "Animals=['Tiger','Lion','Deer','Zebra']\n",
        "\n",
        "value = input(\"enter Color/Fruit/Animal name\")\n",
        "\n",
        "if value in Colors:\n",
        "  print(\"it is color\")\n",
        "if value in Fruits:\n",
        "  print(\"it is Fruit\")\n",
        "if value in Animals:\n",
        "  print(\"it is Animal\")\n"
      ],
      "execution_count": null,
      "outputs": [
        {
          "output_type": "stream",
          "text": [
            "enter Color/Fruit/Animal nameMango\n",
            "it is Fruit\n"
          ],
          "name": "stdout"
        }
      ]
    },
    {
      "cell_type": "markdown",
      "metadata": {
        "id": "-RS14hETo_IV"
      },
      "source": [
        "Write a program that asks user to enter two cities and it tells you if they both are in same country or not. For example if I enter yellow and Black, it will print \"Both are colors\" but if I enter yellow and Tiger it should print \"They don't belong to same category\""
      ]
    },
    {
      "cell_type": "code",
      "metadata": {
        "colab": {
          "base_uri": "https://localhost:8080/"
        },
        "id": "EMF-rtuJpB_y",
        "outputId": "4359e6c1-fbd8-4a0f-89c7-8bbacda85881"
      },
      "source": [
        "Colors = ['Yellow','Green','White','Black']\n",
        "\n",
        "Fruits=['Apple','Papaya','Mango','Orange']\n",
        "\n",
        "Animals=['Tiger','Lion','Deer','Zebra']\n",
        "\n",
        "v1 = input(\"enter value one \")\n",
        "v2 = input(\"enter value two \")\n",
        "\n",
        "if v2 in Colors and v1 in Colors:\n",
        "  print(\"they both are colors\")\n",
        "elif  v2 in Fruits and v1 in Fruits:\n",
        "  print(\"they both are Fruits\")\n",
        "elif v2 in Fruits and v1 in Animals:\n",
        "  print(\"they both are Animals\")\n",
        "else:\n",
        "  print(\"they do not belong from same category\")"
      ],
      "execution_count": null,
      "outputs": [
        {
          "output_type": "stream",
          "text": [
            "enter value one Yellow\n",
            "enter value two Tiger\n",
            "they do not belong from same category\n"
          ],
          "name": "stdout"
        }
      ]
    },
    {
      "cell_type": "markdown",
      "metadata": {
        "id": "d-_fn-XerGvH"
      },
      "source": [
        "2.  Write a python program that can tell you if your grade score good or not . Normal Score range is 40 to 60.\n",
        "\n",
        "  i. Ask user to enter his score.\n",
        "\n",
        "  ii. If it is below 40 to 60 range then print that score is low\n",
        "\n",
        "  iii. If it is above 60 then print that it is good otherwise print that it is normal"
      ]
    },
    {
      "cell_type": "code",
      "metadata": {
        "colab": {
          "base_uri": "https://localhost:8080/"
        },
        "id": "O64Ciz5frNEm",
        "outputId": "053c8fb6-196a-41a4-cb66-d62473f940ed"
      },
      "source": [
        "marks = int(input(\"Enter your marks\"))\n",
        "if marks < 40:\n",
        "  print(\"score is low\")\n",
        "if marks>60:\n",
        "  print(\"it is good score\")\n",
        "else:\n",
        "  print(\"it is normal\")"
      ],
      "execution_count": null,
      "outputs": [
        {
          "output_type": "stream",
          "text": [
            "Enter your marks80\n",
            "it is good score\n"
          ],
          "name": "stdout"
        }
      ]
    },
    {
      "cell_type": "markdown",
      "metadata": {
        "id": "1lUGJwd8sa-o"
      },
      "source": [
        "3.  After appearing in exam 10 times you got this result,\n",
        "\n",
        "result = [\"Pass\",\"Fail\",\"Fail\",\"Pass\",\"Fail\",\"Pass\",\"Pass\",\"Fail\",\"Fail\",\"Fail\"]\n",
        "\n",
        "Using for loop figure out how many times you got Pass"
      ]
    },
    {
      "cell_type": "code",
      "metadata": {
        "colab": {
          "base_uri": "https://localhost:8080/"
        },
        "id": "uw2Muim-sdJ-",
        "outputId": "47e17db5-6c1b-44c6-e104-c2f5345c7a7b"
      },
      "source": [
        "result = [\"Pass\",\"Fail\",\"Fail\",\"Pass\",\"Fail\",\"Pass\",\"Pass\",\"Fail\",\"Fail\",\"Fail\"]\n",
        "j=0\n",
        "for i in result:\n",
        "  if i ==\"Pass\":\n",
        "   j=j+1\n",
        "print(j)"
      ],
      "execution_count": null,
      "outputs": [
        {
          "output_type": "stream",
          "text": [
            "4\n"
          ],
          "name": "stdout"
        }
      ]
    },
    {
      "cell_type": "markdown",
      "metadata": {
        "id": "iR7raqg2uJ9s"
      },
      "source": [
        "Lets say you are running a 50 km race. Write a program that,\n",
        "\n",
        "    Upon completing each 10 km asks you \"are you tired?\"\n",
        "    If you reply \"yes\" then it should break and print \"you didn't finish the race\"\n",
        "     If you reply \"no\" then it should continue and ask \"are you tired\" on every km\n",
        "    If you finish all 50 km then it should print congratulations message"
      ]
    },
    {
      "cell_type": "code",
      "metadata": {
        "colab": {
          "base_uri": "https://localhost:8080/"
        },
        "id": "CR70204PuK-s",
        "outputId": "c3c95bdf-fd15-4500-fd11-5b7af4bb2cdb"
      },
      "source": [
        "option=\"\"\n",
        "\n",
        "for i in range(50):\n",
        "  if i%20==0:\n",
        "    option=input(\"are you tired?\")\n",
        "    print(i)\n",
        "    if option == 'yes':\n",
        "      print(\"you didn't finish the race\",i)\n",
        "      break\n",
        "    if option == 'no':\n",
        "      continue\n",
        "  if i == 49:\n",
        "    print(\"congratulations\")"
      ],
      "execution_count": null,
      "outputs": [
        {
          "output_type": "stream",
          "text": [
            "are you tired?no\n",
            "0\n",
            "are you tired?no\n",
            "20\n",
            "are you tired?no\n",
            "40\n",
            "congratulations\n"
          ],
          "name": "stdout"
        }
      ]
    },
    {
      "cell_type": "markdown",
      "metadata": {
        "id": "d6rgyu96yCEX"
      },
      "source": [
        "6.  Write a Python program to find those numbers which are divisible by 7 and multiple of 5, between 1500 and 2700 (both included)."
      ]
    },
    {
      "cell_type": "code",
      "metadata": {
        "colab": {
          "base_uri": "https://localhost:8080/"
        },
        "id": "12Xfve-6yE3r",
        "outputId": "2f2d34e3-6f45-43dc-b3fd-81906b2b79e1"
      },
      "source": [
        "for i in range(1500,2701):\n",
        "  if i%7==0 and i%5==0:\n",
        "    print(i)"
      ],
      "execution_count": null,
      "outputs": [
        {
          "output_type": "stream",
          "text": [
            "1505\n",
            "1540\n",
            "1575\n",
            "1610\n",
            "1645\n",
            "1680\n",
            "1715\n",
            "1750\n",
            "1785\n",
            "1820\n",
            "1855\n",
            "1890\n",
            "1925\n",
            "1960\n",
            "1995\n",
            "2030\n",
            "2065\n",
            "2100\n",
            "2135\n",
            "2170\n",
            "2205\n",
            "2240\n",
            "2275\n",
            "2310\n",
            "2345\n",
            "2380\n",
            "2415\n",
            "2450\n",
            "2485\n",
            "2520\n",
            "2555\n",
            "2590\n",
            "2625\n",
            "2660\n",
            "2695\n"
          ],
          "name": "stdout"
        }
      ]
    },
    {
      "cell_type": "markdown",
      "metadata": {
        "id": "33CWigDw19By"
      },
      "source": [
        "8.  Your Marks for five Test(test1 to test5) looks like this,\n",
        "\n",
        "marks_list = [65, 75, 2100, 95, 83]\n",
        "\n",
        "Write a program that asks you to enter marks and program should tell you in which test that marks occurred. If marks is not found then it should print that as well."
      ]
    },
    {
      "cell_type": "code",
      "metadata": {
        "colab": {
          "base_uri": "https://localhost:8080/"
        },
        "id": "PplbKVII2AJl",
        "outputId": "fd3c399a-9628-47d6-cf35-802310b6ed03"
      },
      "source": [
        "n=int(input(\"enter marks\"))\n",
        "marks_list = [65, 75, 2100, 95, 83]\n",
        "if n not in marks_list:\n",
        "  print(\"marks not in list\")\n",
        "for i in marks_list:\n",
        "  if i == n:\n",
        "    print(\"you got\",n,\"marks in\",marks_list.index(i),\"test\")\n"
      ],
      "execution_count": null,
      "outputs": [
        {
          "output_type": "stream",
          "text": [
            "enter marks95\n",
            "you got 95 marks in 3 test\n"
          ],
          "name": "stdout"
        }
      ]
    },
    {
      "cell_type": "code",
      "metadata": {
        "id": "ETfM1CXC2Hey"
      },
      "source": [
        ""
      ],
      "execution_count": null,
      "outputs": []
    }
  ]
}